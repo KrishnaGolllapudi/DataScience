{
 "cells": [
  {
   "cell_type": "markdown",
   "metadata": {},
   "source": [
    "## To predict the geographical origin of music"
   ]
  },
  {
   "cell_type": "markdown",
   "metadata": {},
   "source": [
    "Overview\n",
    "The quesion that we are looking at, is weather the geographical origin of songs can be predicted based on different audio features. The data can be downloaded at http://archive.ics.uci.edu/ml/datasets/geographical+original+of+music#."
   ]
  },
  {
   "cell_type": "markdown",
   "metadata": {},
   "source": [
    "***Data Exploaration***"
   ]
  },
  {
   "cell_type": "markdown",
   "metadata": {},
   "source": [
    "\n",
    "The dataset consists of audio features that were extracted using MARSYAS. The features that we are using can be seen as the key audio features of a song. We need to predict the geographical region of a song based on these features. The data does not include geographical regions, but rather lattitudanal and longitudinal coordinates. We would need to first perform clustering to figure out the geographical region for a set of coordinates.\n"
   ]
  },
  {
   "cell_type": "markdown",
   "metadata": {},
   "source": [
    "***Data Preparation***"
   ]
  },
  {
   "cell_type": "code",
   "execution_count": 1,
   "metadata": {},
   "outputs": [
    {
     "data": {
      "text/html": [
       "<div>\n",
       "<style scoped>\n",
       "    .dataframe tbody tr th:only-of-type {\n",
       "        vertical-align: middle;\n",
       "    }\n",
       "\n",
       "    .dataframe tbody tr th {\n",
       "        vertical-align: top;\n",
       "    }\n",
       "\n",
       "    .dataframe thead th {\n",
       "        text-align: right;\n",
       "    }\n",
       "</style>\n",
       "<table border=\"1\" class=\"dataframe\">\n",
       "  <thead>\n",
       "    <tr style=\"text-align: right;\">\n",
       "      <th></th>\n",
       "      <th>0</th>\n",
       "      <th>1</th>\n",
       "      <th>2</th>\n",
       "      <th>3</th>\n",
       "      <th>4</th>\n",
       "      <th>5</th>\n",
       "      <th>6</th>\n",
       "      <th>7</th>\n",
       "      <th>8</th>\n",
       "      <th>9</th>\n",
       "      <th>...</th>\n",
       "      <th>60</th>\n",
       "      <th>61</th>\n",
       "      <th>62</th>\n",
       "      <th>63</th>\n",
       "      <th>64</th>\n",
       "      <th>65</th>\n",
       "      <th>66</th>\n",
       "      <th>67</th>\n",
       "      <th>68</th>\n",
       "      <th>69</th>\n",
       "    </tr>\n",
       "  </thead>\n",
       "  <tbody>\n",
       "    <tr>\n",
       "      <th>0</th>\n",
       "      <td>7.161286</td>\n",
       "      <td>7.835325</td>\n",
       "      <td>2.911583</td>\n",
       "      <td>0.984049</td>\n",
       "      <td>-1.499546</td>\n",
       "      <td>-2.094097</td>\n",
       "      <td>0.576000</td>\n",
       "      <td>-1.205671</td>\n",
       "      <td>1.849122</td>\n",
       "      <td>-0.425598</td>\n",
       "      <td>...</td>\n",
       "      <td>-1.504263</td>\n",
       "      <td>0.351267</td>\n",
       "      <td>-1.018726</td>\n",
       "      <td>-0.174878</td>\n",
       "      <td>-1.089543</td>\n",
       "      <td>-0.668840</td>\n",
       "      <td>-0.914772</td>\n",
       "      <td>-0.836250</td>\n",
       "      <td>-15.75</td>\n",
       "      <td>-47.95</td>\n",
       "    </tr>\n",
       "    <tr>\n",
       "      <th>1</th>\n",
       "      <td>0.225763</td>\n",
       "      <td>-0.094169</td>\n",
       "      <td>-0.603646</td>\n",
       "      <td>0.497745</td>\n",
       "      <td>0.874036</td>\n",
       "      <td>0.290280</td>\n",
       "      <td>-0.077659</td>\n",
       "      <td>-0.887385</td>\n",
       "      <td>0.432062</td>\n",
       "      <td>-0.093963</td>\n",
       "      <td>...</td>\n",
       "      <td>-0.495712</td>\n",
       "      <td>-0.465077</td>\n",
       "      <td>-0.157861</td>\n",
       "      <td>-0.157189</td>\n",
       "      <td>0.380951</td>\n",
       "      <td>1.088478</td>\n",
       "      <td>-0.123595</td>\n",
       "      <td>1.391141</td>\n",
       "      <td>14.91</td>\n",
       "      <td>-23.51</td>\n",
       "    </tr>\n",
       "    <tr>\n",
       "      <th>2</th>\n",
       "      <td>-0.692525</td>\n",
       "      <td>-0.517801</td>\n",
       "      <td>-0.788035</td>\n",
       "      <td>1.214351</td>\n",
       "      <td>-0.907214</td>\n",
       "      <td>0.880213</td>\n",
       "      <td>0.406899</td>\n",
       "      <td>-0.694895</td>\n",
       "      <td>-0.901869</td>\n",
       "      <td>-1.701574</td>\n",
       "      <td>...</td>\n",
       "      <td>-0.637167</td>\n",
       "      <td>0.147260</td>\n",
       "      <td>0.217914</td>\n",
       "      <td>2.718442</td>\n",
       "      <td>0.972919</td>\n",
       "      <td>2.081069</td>\n",
       "      <td>1.375763</td>\n",
       "      <td>1.063847</td>\n",
       "      <td>12.65</td>\n",
       "      <td>-8.00</td>\n",
       "    </tr>\n",
       "    <tr>\n",
       "      <th>3</th>\n",
       "      <td>-0.735562</td>\n",
       "      <td>-0.684055</td>\n",
       "      <td>2.058215</td>\n",
       "      <td>0.716328</td>\n",
       "      <td>-0.011393</td>\n",
       "      <td>0.805396</td>\n",
       "      <td>1.497982</td>\n",
       "      <td>0.114752</td>\n",
       "      <td>0.692847</td>\n",
       "      <td>0.052377</td>\n",
       "      <td>...</td>\n",
       "      <td>-0.178325</td>\n",
       "      <td>-0.065059</td>\n",
       "      <td>-0.724247</td>\n",
       "      <td>-1.020687</td>\n",
       "      <td>-0.751380</td>\n",
       "      <td>-0.385005</td>\n",
       "      <td>-0.012326</td>\n",
       "      <td>-0.392197</td>\n",
       "      <td>9.03</td>\n",
       "      <td>38.74</td>\n",
       "    </tr>\n",
       "    <tr>\n",
       "      <th>4</th>\n",
       "      <td>0.570272</td>\n",
       "      <td>0.273157</td>\n",
       "      <td>-0.279214</td>\n",
       "      <td>0.083456</td>\n",
       "      <td>1.049331</td>\n",
       "      <td>-0.869295</td>\n",
       "      <td>-0.265858</td>\n",
       "      <td>-0.401676</td>\n",
       "      <td>-0.872639</td>\n",
       "      <td>1.147483</td>\n",
       "      <td>...</td>\n",
       "      <td>-0.919463</td>\n",
       "      <td>-0.667912</td>\n",
       "      <td>-0.820172</td>\n",
       "      <td>-0.190488</td>\n",
       "      <td>0.306974</td>\n",
       "      <td>0.119658</td>\n",
       "      <td>0.271838</td>\n",
       "      <td>1.289783</td>\n",
       "      <td>34.03</td>\n",
       "      <td>-6.85</td>\n",
       "    </tr>\n",
       "  </tbody>\n",
       "</table>\n",
       "<p>5 rows × 70 columns</p>\n",
       "</div>"
      ],
      "text/plain": [
       "         0         1         2         3         4         5         6   \\\n",
       "0  7.161286  7.835325  2.911583  0.984049 -1.499546 -2.094097  0.576000   \n",
       "1  0.225763 -0.094169 -0.603646  0.497745  0.874036  0.290280 -0.077659   \n",
       "2 -0.692525 -0.517801 -0.788035  1.214351 -0.907214  0.880213  0.406899   \n",
       "3 -0.735562 -0.684055  2.058215  0.716328 -0.011393  0.805396  1.497982   \n",
       "4  0.570272  0.273157 -0.279214  0.083456  1.049331 -0.869295 -0.265858   \n",
       "\n",
       "         7         8         9   ...          60        61        62  \\\n",
       "0 -1.205671  1.849122 -0.425598  ...   -1.504263  0.351267 -1.018726   \n",
       "1 -0.887385  0.432062 -0.093963  ...   -0.495712 -0.465077 -0.157861   \n",
       "2 -0.694895 -0.901869 -1.701574  ...   -0.637167  0.147260  0.217914   \n",
       "3  0.114752  0.692847  0.052377  ...   -0.178325 -0.065059 -0.724247   \n",
       "4 -0.401676 -0.872639  1.147483  ...   -0.919463 -0.667912 -0.820172   \n",
       "\n",
       "         63        64        65        66        67     68     69  \n",
       "0 -0.174878 -1.089543 -0.668840 -0.914772 -0.836250 -15.75 -47.95  \n",
       "1 -0.157189  0.380951  1.088478 -0.123595  1.391141  14.91 -23.51  \n",
       "2  2.718442  0.972919  2.081069  1.375763  1.063847  12.65  -8.00  \n",
       "3 -1.020687 -0.751380 -0.385005 -0.012326 -0.392197   9.03  38.74  \n",
       "4 -0.190488  0.306974  0.119658  0.271838  1.289783  34.03  -6.85  \n",
       "\n",
       "[5 rows x 70 columns]"
      ]
     },
     "execution_count": 1,
     "metadata": {},
     "output_type": "execute_result"
    }
   ],
   "source": [
    "import pandas as pd\n",
    "import numpy as np\n",
    "from sklearn.cluster import KMeans\n",
    "import matplotlib.pyplot as plt\n",
    "%matplotlib inline\n",
    "from sklearn.model_selection import train_test_split\n",
    "from sklearn.decomposition import PCA\n",
    "\n",
    "\n",
    "data = pd.read_csv('default_features_1059_tracks.txt',header=None)\n",
    "data.head()"
   ]
  },
  {
   "cell_type": "code",
   "execution_count": 2,
   "metadata": {},
   "outputs": [
    {
     "data": {
      "text/plain": [
       "(1059, 70)"
      ]
     },
     "execution_count": 2,
     "metadata": {},
     "output_type": "execute_result"
    }
   ],
   "source": [
    "data = np.asarray(data)\n",
    "data.shape"
   ]
  },
  {
   "cell_type": "markdown",
   "metadata": {},
   "source": [
    "Each row is a song (observation) and each song is an audio feature. However, the last two columns are the geographical coordinates, so we need to split this appropriately."
   ]
  },
  {
   "cell_type": "code",
   "execution_count": 3,
   "metadata": {},
   "outputs": [
    {
     "name": "stdout",
     "output_type": "stream",
     "text": [
      "X sample\n",
      "7.835325\n",
      "\n",
      "y sample\n",
      "[-15.75 -47.95]\n"
     ]
    }
   ],
   "source": [
    "X = data[:,0:68]\n",
    "y = data[:,68:70]\n",
    "\n",
    "print(\"X sample\")\n",
    "print(X[0,1])\n",
    "print(\"\")\n",
    "print(\"y sample\")\n",
    "print(y[0,0:2])"
   ]
  },
  {
   "cell_type": "code",
   "execution_count": 4,
   "metadata": {},
   "outputs": [
    {
     "name": "stdout",
     "output_type": "stream",
     "text": [
      "float64\n",
      "float64\n"
     ]
    }
   ],
   "source": [
    "print(X.dtype)\n",
    "print(y.dtype)"
   ]
  },
  {
   "cell_type": "markdown",
   "metadata": {},
   "source": [
    "\n",
    "Seeing that we need to predict the geographic area, we need to reduce the two coordinate prediction column to a single prediction column. Dimension reduction techniques such as PCA might work, but seeing that we know that there are 33 geographic locations within the data, clustering might be a better approach."
   ]
  },
  {
   "cell_type": "code",
   "execution_count": 5,
   "metadata": {},
   "outputs": [
    {
     "name": "stdout",
     "output_type": "stream",
     "text": [
      "Centroids\n",
      "[[-6.1700e+00  3.5740e+01]\n",
      " [ 3.9910e+01  1.1638e+02]\n",
      " [ 1.4910e+01 -2.3510e+01]\n",
      " [ 4.1710e+01  4.4780e+01]\n",
      " [ 4.1900e+01  1.2480e+01]\n",
      " [ 2.8610e+01  7.7200e+01]\n",
      " [ 1.7980e+01 -7.6800e+01]\n",
      " [-6.1700e+00  1.0682e+02]\n",
      " [-1.5750e+01 -4.7950e+01]\n",
      " [-3.5300e+01  1.4912e+02]\n",
      " [ 3.9910e+01  3.2830e+01]\n",
      " [ 1.9750e+01  9.6100e+01]\n",
      " [ 3.4030e+01 -6.8500e+00]\n",
      " [ 1.2650e+01 -8.0000e+00]\n",
      " [ 3.5700e+01  1.3971e+02]\n",
      " [ 4.1260e+01  6.9210e+01]\n",
      " [ 5.2500e+01 -1.2000e-01]\n",
      " [ 2.3760e+01  1.2100e+02]\n",
      " [ 9.0300e+00  3.8740e+01]\n",
      " [ 5.4680e+01  2.5310e+01]\n",
      " [ 3.0030e+01  3.1210e+01]\n",
      " [ 3.8000e+01  2.3710e+01]\n",
      " [ 1.7250e+01 -8.8760e+01]\n",
      " [ 3.6700e+01  3.2100e+00]\n",
      " [ 1.1550e+01  1.0491e+02]\n",
      " [ 3.3660e+01  7.3160e+01]\n",
      " [ 3.5680e+01  5.1410e+01]\n",
      " [ 1.4660e+01 -1.7410e+01]\n",
      " [ 4.2860e+01  7.4600e+01]\n",
      " [-1.2600e+00  3.6800e+01]\n",
      " [ 4.4410e+01  2.6100e+01]\n",
      " [ 1.3750e+01  1.0048e+02]\n",
      " [ 4.1330e+01  1.9800e+01]]\n"
     ]
    }
   ],
   "source": [
    "n_clusters = 33\n",
    "kmeans = KMeans(n_clusters=n_clusters, max_iter = 500, algorithm='full')\n",
    "kmeans = kmeans.fit(y)\n",
    "labels = kmeans.predict(y)\n",
    "\n",
    "print('Centroids')\n",
    "centroids = kmeans.cluster_centers_\n",
    "print(centroids)"
   ]
  },
  {
   "cell_type": "code",
   "execution_count": 6,
   "metadata": {},
   "outputs": [
    {
     "data": {
      "text/plain": [
       "<Figure size 432x288 with 0 Axes>"
      ]
     },
     "execution_count": 6,
     "metadata": {},
     "output_type": "execute_result"
    },
    {
     "data": {
      "image/png": "[encoded data removed]",
      "text/plain": [
       "<Figure size 432x288 with 1 Axes>"
      ]
     },
     "metadata": {},
     "output_type": "display_data"
    },
    {
     "data": {
      "text/plain": [
       "<Figure size 432x288 with 0 Axes>"
      ]
     },
     "metadata": {},
     "output_type": "display_data"
    }
   ],
   "source": [
    "plt.style.use('ggplot')\n",
    "label_color = [plt.cm.nipy_spectral(float(l) /n_clusters) for l in labels]\n",
    "plt.scatter(y[:, 1], y[:, 0], c = label_color, s=25)\n",
    "plt.title(\"Clustered regions by coordinates\")\n",
    "plt.xlabel(\"Longitude\")\n",
    "plt.ylabel(\"Latitude\")\n",
    "\n",
    "plt.figure()"
   ]
  },
  {
   "cell_type": "markdown",
   "metadata": {},
   "source": [
    "According to the research paper, data was collected from 33 countries/regions. As we can see from the plot above, it seems as if the coordinates provided are identical per region. However, it seems as if some of the geographical regions are closer to each other than others. Even though countries or regions might be divided by borders, it seems logical that some of these geographical regions would be influenced by nearby located regions. This is important to bear in mind. If we are making inaccurate classifications, we might want to see whether the prediction is a nearby region. If this is the case, we should consider reducing the number of clusters."
   ]
  },
  {
   "cell_type": "code",
   "execution_count": 7,
   "metadata": {},
   "outputs": [],
   "source": [
    "y = labels"
   ]
  },
  {
   "cell_type": "markdown",
   "metadata": {},
   "source": [
    "Since we do not know exactly what each feature means and what the range is of each feature, it would be a good idea to scale the X data. This will prevent estimators that are influenced by the dimensionality of the feature space to be influenced too much by variables that have wider ranges than others."
   ]
  },
  {
   "cell_type": "code",
   "execution_count": 8,
   "metadata": {},
   "outputs": [],
   "source": [
    "from sklearn.preprocessing import StandardScaler\n",
    "\n",
    "Xtrain, Xtest, ytrain, ytest = train_test_split(X, y, test_size=0.8, random_state=1234)\n",
    "\n",
    "X_scaler = StandardScaler().fit(X)\n",
    "\n",
    "scaled_Xtrain = X_scaler.transform(Xtrain)\n",
    "scaled_Xtest = X_scaler.transform(Xtest)"
   ]
  },
  {
   "cell_type": "code",
   "execution_count": 9,
   "metadata": {},
   "outputs": [
    {
     "data": {
      "text/plain": [
       "[0,\n",
       " 0.8000745533496415,\n",
       " 0.8814716502567665,\n",
       " 0.9229508995216814,\n",
       " 0.9300103808603691,\n",
       " 0.9440686173702931,\n",
       " 0.9668358489879662,\n",
       " 0.9693313450981565,\n",
       " 0.9725077214562596,\n",
       " 0.974797006111117,\n",
       " 0.978256036201096,\n",
       " 0.9794688109312614,\n",
       " 0.9808428796405897,\n",
       " 0.9815410686383625,\n",
       " 0.983630444267057,\n",
       " 0.9852143083977548,\n",
       " 0.9856822071186979,\n",
       " 0.9861335253200437,\n",
       " 0.9864134915037723,\n",
       " 0.9875870247427453,\n",
       " 0.9880846639064016,\n",
       " 0.9883096776260321,\n",
       " 0.9897557938258842,\n",
       " 0.9906676802920289,\n",
       " 0.9909251441467753,\n",
       " 0.9915846690366814,\n",
       " 0.992103889605993,\n",
       " 0.9927204266669851,\n",
       " 0.9929025722395827,\n",
       " 0.993122080854974,\n",
       " 0.993367006893402,\n",
       " 0.9935184349856202,\n",
       " 0.9938402695562611,\n",
       " 0.9940729115800395,\n",
       " 0.9941986618406444,\n",
       " 0.9947298507037402,\n",
       " 0.9950664913296224,\n",
       " 0.9954370430710876,\n",
       " 0.9958055962739443,\n",
       " 0.9958589638102417,\n",
       " 0.9960242328067319,\n",
       " 0.996458597585607,\n",
       " 0.9967775997421923,\n",
       " 0.9969602917885826,\n",
       " 0.9970432543657372,\n",
       " 0.9971764583448536,\n",
       " 0.9972878010314817,\n",
       " 0.9974061204340178,\n",
       " 0.9974530329546213,\n",
       " 0.9976216446568439,\n",
       " 0.9978033028107681,\n",
       " 0.9979298784476385,\n",
       " 0.9979587796660678,\n",
       " 0.998170126006426,\n",
       " 0.9983435705298529,\n",
       " 0.9984411818064723,\n",
       " 0.9985099369053021,\n",
       " 0.9987070015843038,\n",
       " 0.9987815749806526,\n",
       " 0.9988487799244428,\n",
       " 0.9989034934474951,\n",
       " 0.9989778327862557,\n",
       " 0.9990464874281021,\n",
       " 0.9990673271584789,\n",
       " 0.9991627837630151,\n",
       " 0.9992510904987065,\n",
       " 0.9993572711331636,\n",
       " 0.9997282679529786,\n",
       " 0.9999126314396343]"
      ]
     },
     "execution_count": 9,
     "metadata": {},
     "output_type": "execute_result"
    }
   ],
   "source": [
    "\n",
    "PCA_var = PCA(n_components = X_scaler.transform(X).shape[1])\n",
    "PCA_var.fit(X_scaler.transform(X))\n",
    "PCA_var_exp = [1 - x/sum(PCA_var.explained_variance_) for x in PCA_var.explained_variance_]\n",
    "\n",
    "PCA_var_exp.insert(0, 0)\n",
    "PCA_var_exp"
   ]
  },
  {
   "cell_type": "code",
   "execution_count": 10,
   "metadata": {},
   "outputs": [
    {
     "data": {
      "image/png": "[encoded data removed]",
      "text/plain": [
       "<Figure size 432x288 with 1 Axes>"
      ]
     },
     "metadata": {},
     "output_type": "display_data"
    }
   ],
   "source": [
    "plt.figure()\n",
    "plt.title(\"PCA variance explained over number of PCs\")\n",
    "plt.xlabel(\"Number of PCs\")\n",
    "plt.ylabel(\"Ratio of variance explained\")\n",
    "plt.plot(range(0, len(PCA_var_exp), 1), PCA_var_exp, c = 'r')\n",
    "plt.show()"
   ]
  },
  {
   "cell_type": "markdown",
   "metadata": {},
   "source": [
    "***Feature selection***"
   ]
  },
  {
   "cell_type": "markdown",
   "metadata": {},
   "source": [
    "\n",
    "We have 68 features, but we have no idea whether all the features are relevant or not.\n",
    "\n",
    "We can use Python's RFE function to perform backward selection and the PCA function to reduce dimensionality by minimising the lost variance.\n",
    "\n",
    "With PCA we can determine the amount of variance lost as the dimensions are reduced, but for RFE we need an estimator to determine whether omitting a feature will result in a decrease in accuracy score or not. To keep our measurement metrics consistent, we will rather test the reduced dimensionalty of PCA in terms of accuracy when using different estimators.\n",
    "\n",
    "For this reason, we need an estimator to validate the feature selection. We can test RFE and PCA with a variety of estimators and compare the different feature selection results between the models.\n",
    "\n",
    "However, because we do not yet know which features to use, it is difficult to know what our hyperparameter values should be for our models. To make sure that we aren't making any assumptions in terms of which hyperparameters work best, we will apply grid search for each feature selection iteration. We can then use the best accuracy obtained for a specific number of features for each estimator.\n",
    "\n",
    "The problem on hand is a classification problem, which limits the type of estimators we can use. We will be considering the following estimators - random forest, SVM (SVC) with a linear kernel and Logistic Regression. K-nearestneighbours is another possible estimator, but because it does not perform well in high dimensionality, it will not be included during the feature selection process.\n",
    "\n",
    "Each estimator that is being used, is being trained on training data, and validated using an independent data subset."
   ]
  },
  {
   "cell_type": "code",
   "execution_count": 11,
   "metadata": {},
   "outputs": [
    {
     "name": "stderr",
     "output_type": "stream",
     "text": [
      "C:\\Users\\gvsva\\Anaconda3\\envs\\tensorflow\\lib\\site-packages\\sklearn\\cross_validation.py:41: DeprecationWarning: This module was deprecated in version 0.18 in favor of the model_selection module into which all the refactored classes and functions are moved. Also note that the interface of the new CV iterators are different from that of this module. This module will be removed in 0.20.\n",
      "  \"This module will be removed in 0.20.\", DeprecationWarning)\n",
      "C:\\Users\\gvsva\\Anaconda3\\envs\\tensorflow\\lib\\site-packages\\sklearn\\grid_search.py:42: DeprecationWarning: This module was deprecated in version 0.18 in favor of the model_selection module into which all the refactored classes and functions are moved. This module will be removed in 0.20.\n",
      "  DeprecationWarning)\n"
     ]
    },
    {
     "data": {
      "image/png": "[encoded data removed]",
      "text/plain": [
       "<Figure size 432x288 with 1 Axes>"
      ]
     },
     "metadata": {},
     "output_type": "display_data"
    },
    {
     "data": {
      "image/png": "[encoded data removed]",
      "text/plain": [
       "<Figure size 432x288 with 1 Axes>"
      ]
     },
     "metadata": {},
     "output_type": "display_data"
    },
    {
     "data": {
      "image/png": "[encoded data removed]",
      "text/plain": [
       "<Figure size 432x288 with 1 Axes>"
      ]
     },
     "metadata": {},
     "output_type": "display_data"
    }
   ],
   "source": [
    "from sklearn.svm import SVC\n",
    "from sklearn.model_selection import StratifiedKFold\n",
    "from sklearn.feature_selection import RFE\n",
    "from sklearn.datasets import make_classification\n",
    "from sklearn.ensemble import RandomForestClassifier\n",
    "from sklearn.model_selection import train_test_split\n",
    "from sklearn.grid_search import ParameterGrid\n",
    "from sklearn.decomposition import PCA\n",
    "from sklearn.linear_model import LogisticRegression\n",
    "\n",
    "estimators = {}\n",
    "\n",
    "estimators['svc'] = SVC\n",
    "estimators['rfc'] = RandomForestClassifier\n",
    "estimators['logreg'] = LogisticRegression\n",
    "\n",
    "params = {}\n",
    "params['svc'] = {'kernel': ['linear'], 'C': [10**x for x in range(-1, 3, 1)], \n",
    "                 'gamma': [10**x for x in range(-1, 2, 1)], \n",
    "                'random_state': [1234]}\n",
    "params['rfc'] = {'n_estimators': [5*x for x in range(3, 5, 1)]}\n",
    "\n",
    "params['logreg'] = {'C': [10**x for x in range(-1, 3, 1)], 'penalty': ['l1', 'l2']}\n",
    "\n",
    "rfe_best_model = {}\n",
    "pca_best_model = {}\n",
    "\n",
    "for i, estimator in enumerate(estimators):\n",
    "    model_params = ParameterGrid(params[estimator])\n",
    "    grid = model_params\n",
    "    \n",
    "    rfe_best_model[estimator] = []\n",
    "    pca_best_model[estimator] = []\n",
    "    \n",
    "    for n_comps in range(1, scaled_Xtrain.shape[1], 1):\n",
    "        rfe_best_model[estimator].append(0)\n",
    "        pca_best_model[estimator].append(0)\n",
    "            \n",
    "        for params_combo in grid:\n",
    "        \n",
    "            estimator_iter = estimators[estimator]\n",
    "            estimator_iter = estimator_iter(**params_combo)\n",
    "\n",
    "            rfe = RFE(estimator = estimator_iter, n_features_to_select=n_comps)\n",
    "            rfe.fit(scaled_Xtrain, ytrain)\n",
    "\n",
    "            if (rfe.score(scaled_Xtest, ytest) > rfe_best_model[estimator][n_comps - 1]):\n",
    "                rfe_best_model[estimator][n_comps - 1] = rfe.score(scaled_Xtest, ytest)\n",
    "                \n",
    "            PCA_model = PCA(n_components = n_comps)\n",
    "            PCA_model.fit(scaled_Xtrain)\n",
    "            PCA_Xtrain = PCA_model.transform(scaled_Xtrain)\n",
    "            PCA_Xtest = PCA_model.transform(scaled_Xtest)\n",
    "            \n",
    "            estimator_iter.fit(PCA_Xtrain, ytrain)\n",
    "            \n",
    "            if (estimator_iter.score(PCA_Xtest, ytest) > pca_best_model[estimator][n_comps - 1]):\n",
    "                pca_best_model[estimator][n_comps - 1] = estimator_iter.score(PCA_Xtest, ytest)\n",
    "\n",
    "    plt.figure()\n",
    "    plt.xlabel(\"%s - Number of features selected\" % estimator)\n",
    "    plt.ylabel(\"Accuracy score\")\n",
    "    plt.plot(range(1, len(pca_best_model[estimator]) + 1, 1), pca_best_model[estimator], c = 'r')\n",
    "    plt.plot(range(1, len(rfe_best_model[estimator]) + 1, 1), rfe_best_model[estimator], c = 'b')\n",
    "    plt.show()\n"
   ]
  },
  {
   "cell_type": "markdown",
   "metadata": {},
   "source": [
    "The red lines represent the PCA dimension reduction and the blue lines represent RFE for the different estimators used.\n",
    "\n",
    "It would seem as if backward selection (RFE) is giving us higher accuracy scores than PCA in general. All the plots seem to level out around models containing 10 features. For this reason, we will select the 10 best features according to backward selection and build our model on this. The additional features are not adding a lot of value."
   ]
  },
  {
   "cell_type": "code",
   "execution_count": 13,
   "metadata": {},
   "outputs": [],
   "source": [
    "rfe_best_model_2 = {}\n",
    "pca_best_model_2 = {}\n",
    "\n",
    "rfe_best_model_2['svc'] = []\n",
    "rfe_best_model_2['rfc'] = []\n",
    "rfe_best_model_2['logreg'] = []\n",
    "\n",
    "accuracies = {}\n",
    "\n",
    "accuracies['svc'] = [0]\n",
    "accuracies['rfc'] = [0]\n",
    "accuracies['logreg'] = [0]\n",
    "\n",
    "features = {}\n",
    "\n",
    "features['svc'] = []\n",
    "features['rfc'] = []\n",
    "features['logreg'] = []\n",
    "\n",
    "estimator_list = []\n",
    "\n",
    "n_comps = 10\n",
    "                          \n",
    "for i, estimator in enumerate(estimators):\n",
    "    \n",
    "    estimator_list.append(estimator)\n",
    "    model_params = ParameterGrid(params[estimator])\n",
    "    grid = model_params\n",
    "    \n",
    "    rfe_best_model_2[estimator] = []\n",
    "    \n",
    "    rfe_best_model_2[estimator].append(0)\n",
    "    #pca_best_model_2[estimator].append(0)\n",
    "\n",
    "    for params_combo in grid:\n",
    "        estimator_iter = estimators[estimator]\n",
    "        estimator_iter = estimator_iter(**params_combo)\n",
    "\n",
    "        rfe = RFE(estimator = estimator_iter, n_features_to_select=n_comps)\n",
    "        rfe.fit(scaled_Xtrain, ytrain)\n",
    "\n",
    "        if (rfe.score(scaled_Xtest, ytest) > accuracies[estimator][0]):\n",
    "            accuracies[estimator][0] = [rfe.score(scaled_Xtest, ytest)]\n",
    "            features[estimator] = rfe.support_"
   ]
  },
  {
   "cell_type": "code",
   "execution_count": 14,
   "metadata": {},
   "outputs": [
    {
     "name": "stdout",
     "output_type": "stream",
     "text": [
      "Features used by any Estimator\n"
     ]
    },
    {
     "data": {
      "text/html": [
       "<div>\n",
       "<style scoped>\n",
       "    .dataframe tbody tr th:only-of-type {\n",
       "        vertical-align: middle;\n",
       "    }\n",
       "\n",
       "    .dataframe tbody tr th {\n",
       "        vertical-align: top;\n",
       "    }\n",
       "\n",
       "    .dataframe thead th {\n",
       "        text-align: right;\n",
       "    }\n",
       "</style>\n",
       "<table border=\"1\" class=\"dataframe\">\n",
       "  <thead>\n",
       "    <tr style=\"text-align: right;\">\n",
       "      <th></th>\n",
       "      <th>SVC</th>\n",
       "      <th>RFC</th>\n",
       "      <th>Log_Reg</th>\n",
       "    </tr>\n",
       "  </thead>\n",
       "  <tbody>\n",
       "    <tr>\n",
       "      <th>feature_3</th>\n",
       "      <td>False</td>\n",
       "      <td>False</td>\n",
       "      <td>True</td>\n",
       "    </tr>\n",
       "    <tr>\n",
       "      <th>feature_4</th>\n",
       "      <td>True</td>\n",
       "      <td>False</td>\n",
       "      <td>False</td>\n",
       "    </tr>\n",
       "    <tr>\n",
       "      <th>feature_7</th>\n",
       "      <td>True</td>\n",
       "      <td>True</td>\n",
       "      <td>False</td>\n",
       "    </tr>\n",
       "    <tr>\n",
       "      <th>feature_8</th>\n",
       "      <td>True</td>\n",
       "      <td>True</td>\n",
       "      <td>False</td>\n",
       "    </tr>\n",
       "    <tr>\n",
       "      <th>feature_20</th>\n",
       "      <td>True</td>\n",
       "      <td>True</td>\n",
       "      <td>True</td>\n",
       "    </tr>\n",
       "    <tr>\n",
       "      <th>feature_22</th>\n",
       "      <td>False</td>\n",
       "      <td>False</td>\n",
       "      <td>True</td>\n",
       "    </tr>\n",
       "    <tr>\n",
       "      <th>feature_26</th>\n",
       "      <td>True</td>\n",
       "      <td>False</td>\n",
       "      <td>False</td>\n",
       "    </tr>\n",
       "    <tr>\n",
       "      <th>feature_34</th>\n",
       "      <td>False</td>\n",
       "      <td>False</td>\n",
       "      <td>True</td>\n",
       "    </tr>\n",
       "    <tr>\n",
       "      <th>feature_35</th>\n",
       "      <td>False</td>\n",
       "      <td>True</td>\n",
       "      <td>True</td>\n",
       "    </tr>\n",
       "    <tr>\n",
       "      <th>feature_36</th>\n",
       "      <td>False</td>\n",
       "      <td>True</td>\n",
       "      <td>False</td>\n",
       "    </tr>\n",
       "    <tr>\n",
       "      <th>feature_37</th>\n",
       "      <td>True</td>\n",
       "      <td>False</td>\n",
       "      <td>True</td>\n",
       "    </tr>\n",
       "    <tr>\n",
       "      <th>feature_51</th>\n",
       "      <td>False</td>\n",
       "      <td>True</td>\n",
       "      <td>True</td>\n",
       "    </tr>\n",
       "    <tr>\n",
       "      <th>feature_52</th>\n",
       "      <td>True</td>\n",
       "      <td>True</td>\n",
       "      <td>True</td>\n",
       "    </tr>\n",
       "    <tr>\n",
       "      <th>feature_53</th>\n",
       "      <td>True</td>\n",
       "      <td>False</td>\n",
       "      <td>False</td>\n",
       "    </tr>\n",
       "    <tr>\n",
       "      <th>feature_54</th>\n",
       "      <td>False</td>\n",
       "      <td>True</td>\n",
       "      <td>False</td>\n",
       "    </tr>\n",
       "    <tr>\n",
       "      <th>feature_55</th>\n",
       "      <td>True</td>\n",
       "      <td>True</td>\n",
       "      <td>False</td>\n",
       "    </tr>\n",
       "    <tr>\n",
       "      <th>feature_58</th>\n",
       "      <td>False</td>\n",
       "      <td>False</td>\n",
       "      <td>True</td>\n",
       "    </tr>\n",
       "    <tr>\n",
       "      <th>feature_62</th>\n",
       "      <td>True</td>\n",
       "      <td>False</td>\n",
       "      <td>False</td>\n",
       "    </tr>\n",
       "    <tr>\n",
       "      <th>feature_63</th>\n",
       "      <td>False</td>\n",
       "      <td>True</td>\n",
       "      <td>False</td>\n",
       "    </tr>\n",
       "    <tr>\n",
       "      <th>feature_64</th>\n",
       "      <td>False</td>\n",
       "      <td>False</td>\n",
       "      <td>True</td>\n",
       "    </tr>\n",
       "  </tbody>\n",
       "</table>\n",
       "</div>"
      ],
      "text/plain": [
       "              SVC    RFC Log_Reg\n",
       "feature_3   False  False    True\n",
       "feature_4    True  False   False\n",
       "feature_7    True   True   False\n",
       "feature_8    True   True   False\n",
       "feature_20   True   True    True\n",
       "feature_22  False  False    True\n",
       "feature_26   True  False   False\n",
       "feature_34  False  False    True\n",
       "feature_35  False   True    True\n",
       "feature_36  False   True   False\n",
       "feature_37   True  False    True\n",
       "feature_51  False   True    True\n",
       "feature_52   True   True    True\n",
       "feature_53   True  False   False\n",
       "feature_54  False   True   False\n",
       "feature_55   True   True   False\n",
       "feature_58  False  False    True\n",
       "feature_62   True  False   False\n",
       "feature_63  False   True   False\n",
       "feature_64  False  False    True"
      ]
     },
     "execution_count": 14,
     "metadata": {},
     "output_type": "execute_result"
    }
   ],
   "source": [
    "import pandas as pd\n",
    "\n",
    "est_columns = ['SVC','RFC','Log_Reg'] \n",
    "est_index = ['feature_%d'%i for i in range(0,len(features['svc']))]\n",
    "\n",
    "# display format as scientific \n",
    "pd.options.display.float_format = '{:,.4g}'.format\n",
    "est_df = pd.DataFrame(index=est_index, columns=est_columns)\n",
    "est_df\n",
    "\n",
    "for i in range(0, len(features['svc'])):\n",
    "    est_df.iloc[i, 0] = features['svc'][i]\n",
    "    est_df.iloc[i, 1] = features['rfc'][i]\n",
    "    est_df.iloc[i, 2] = features['logreg'][i]\n",
    "    \n",
    "print('Features used by any Estimator')\n",
    "est_df[est_df['SVC'] | est_df['RFC'] | est_df['Log_Reg']]"
   ]
  },
  {
   "cell_type": "code",
   "execution_count": 15,
   "metadata": {},
   "outputs": [
    {
     "name": "stdout",
     "output_type": "stream",
     "text": [
      "Features used by all Estimators\n"
     ]
    },
    {
     "data": {
      "text/html": [
       "<div>\n",
       "<style scoped>\n",
       "    .dataframe tbody tr th:only-of-type {\n",
       "        vertical-align: middle;\n",
       "    }\n",
       "\n",
       "    .dataframe tbody tr th {\n",
       "        vertical-align: top;\n",
       "    }\n",
       "\n",
       "    .dataframe thead th {\n",
       "        text-align: right;\n",
       "    }\n",
       "</style>\n",
       "<table border=\"1\" class=\"dataframe\">\n",
       "  <thead>\n",
       "    <tr style=\"text-align: right;\">\n",
       "      <th></th>\n",
       "      <th>SVC</th>\n",
       "      <th>RFC</th>\n",
       "      <th>Log_Reg</th>\n",
       "    </tr>\n",
       "  </thead>\n",
       "  <tbody>\n",
       "    <tr>\n",
       "      <th>feature_20</th>\n",
       "      <td>True</td>\n",
       "      <td>True</td>\n",
       "      <td>True</td>\n",
       "    </tr>\n",
       "    <tr>\n",
       "      <th>feature_52</th>\n",
       "      <td>True</td>\n",
       "      <td>True</td>\n",
       "      <td>True</td>\n",
       "    </tr>\n",
       "  </tbody>\n",
       "</table>\n",
       "</div>"
      ],
      "text/plain": [
       "             SVC   RFC Log_Reg\n",
       "feature_20  True  True    True\n",
       "feature_52  True  True    True"
      ]
     },
     "execution_count": 15,
     "metadata": {},
     "output_type": "execute_result"
    }
   ],
   "source": [
    "\n",
    "print('Features used by all Estimators' )\n",
    "est_df[est_df['SVC'] & est_df['RFC'] & est_df['Log_Reg']]"
   ]
  },
  {
   "cell_type": "code",
   "execution_count": 16,
   "metadata": {},
   "outputs": [],
   "source": [
    "from sklearn.feature_selection import RFE\n",
    "\n",
    "Xtrain, Xtest, ytrain, ytest = train_test_split(X, y, test_size=0.8, random_state=1234)\n",
    "\n",
    "rfc = RandomForestClassifier(n_estimators=35)\n",
    "\n",
    "rfe = RFE(estimator = rfc, n_features_to_select=10)\n",
    "rfe.fit(Xtrain, ytrain)\n",
    "X_reduced = rfe.transform(X)\n",
    "\n",
    "Xtrain, Xtest, ytrain, ytest = train_test_split(X_reduced, y, test_size=0.8, random_state=1234)"
   ]
  },
  {
   "cell_type": "code",
   "execution_count": 17,
   "metadata": {},
   "outputs": [
    {
     "data": {
      "text/plain": [
       "(1059, 10)"
      ]
     },
     "execution_count": 17,
     "metadata": {},
     "output_type": "execute_result"
    }
   ],
   "source": [
    "X_reduced.shape"
   ]
  },
  {
   "cell_type": "markdown",
   "metadata": {},
   "source": [
    "# Model Building"
   ]
  },
  {
   "cell_type": "markdown",
   "metadata": {},
   "source": [
    "We can now use this these features to test out the same estimators and include k nearest neighbours."
   ]
  },
  {
   "cell_type": "code",
   "execution_count": 18,
   "metadata": {},
   "outputs": [
    {
     "name": "stdout",
     "output_type": "stream",
     "text": [
      "For rfc the best cv accuracy score is 0.285449448363176\n",
      "For svc the best cv accuracy score is 0.2949900524507144\n",
      "For knn the best cv accuracy score is 0.32207451618737565\n"
     ]
    }
   ],
   "source": [
    "from sklearn.model_selection import cross_val_score\n",
    "from sklearn.neighbors import KNeighborsClassifier\n",
    "\n",
    "estimators = {}\n",
    "\n",
    "estimators['svc'] = SVC\n",
    "estimators['rfc'] = RandomForestClassifier\n",
    "estimators['knn'] = KNeighborsClassifier\n",
    "# estimators['logreg'] = LogisticRegression\n",
    "\n",
    "params = {}\n",
    "params['svc'] = {'kernel': ['linear'], 'C': [10**x for x in range(-2, 3, 1)], \n",
    "                 'gamma': [10**x for x in range(-2, 3, 1)], \n",
    "                'random_state': [1234]}\n",
    "params['rfc'] = {'n_estimators': [5*x for x in range(1, 8, 1)]}\n",
    "\n",
    "params['knn'] = {'n_neighbors': range(1, 15, 1), 'p': [1, 2]}\n",
    "# params['logreg'] = {'C': [10**x for x in range(-1, 3, 1)], 'penalty': ['l1', 'l2']}\n",
    "\n",
    "best_model = {}\n",
    "\n",
    "for i, estimator in enumerate(estimators):\n",
    "    model_params = ParameterGrid(params[estimator])\n",
    "    grid = model_params\n",
    "    \n",
    "    best_model[estimator] = [0]\n",
    "    \n",
    "    for params_combo in grid:\n",
    "        \n",
    "        estimator_iter = estimators[estimator]\n",
    "        estimator_iter = estimator_iter(**params_combo)\n",
    "            \n",
    "        estimator_iter.fit(Xtrain, ytrain)\n",
    "        scores = cross_val_score(estimator_iter, Xtrain, ytrain, cv = 2, scoring='accuracy') # smallest class has 2 members\n",
    "        \n",
    "        if (scores.mean() > best_model[estimator][0]):\n",
    "            best_model[estimator] = [scores.mean(), estimator_iter.get_params]\n",
    "\n",
    "    print(\"For %s the best cv accuracy score is %s\" % (estimator, best_model[estimator][0]))"
   ]
  },
  {
   "cell_type": "markdown",
   "metadata": {},
   "source": [
    "# Reclustering"
   ]
  },
  {
   "cell_type": "markdown",
   "metadata": {},
   "source": [
    "\n",
    "The cross validation scores for the differernt models are fairly similar, but all of them are really low. Due to this reason, it might be a good idea use clustering to re-assign the classification groups. Seeing that the initial problem relates to geographic locations, we have to apply clustering based on the coordinates of the region. It would be fair to say that the US and Australia listens to similar types of music, but then we will be predicting music types instead of regions. For now, let's group by geographic locations.\n",
    "\n",
    "We can apply each of the models above to different number of clusters to see if our accuracy improves."
   ]
  },
  {
   "cell_type": "code",
   "execution_count": 19,
   "metadata": {},
   "outputs": [],
   "source": [
    "data = pd.read_csv('default_features_1059_tracks.txt',header=None)\n",
    "    \n",
    "data = np.asarray(data)\n",
    "data.shape\n",
    "\n",
    "y_coords = data[:, 68:70]\n",
    "y_coords = y_coords.astype(dtype = np.float)\n",
    "\n",
    "n_clusters = range(2, 33, 1)\n",
    "\n",
    "accuracies = {'svc':[], 'rfc':[], 'knn':[]}\n",
    "\n",
    "for n in n_clusters:\n",
    "    kmeans = KMeans(n_clusters=n, max_iter = 300, algorithm='full')\n",
    "    kmeans = kmeans.fit(y_coords)\n",
    "    labels = kmeans.predict(y_coords)\n",
    "    \n",
    "    Xtrain, Xtest, ytrain, ytest = train_test_split(X, labels, test_size=0.8, random_state=1234)\n",
    "\n",
    "    best_model = {}\n",
    "\n",
    "    for i, estimator in enumerate(estimators):\n",
    "        model_params = ParameterGrid(params[estimator])\n",
    "        grid = model_params\n",
    "\n",
    "        best_model[estimator] = [0]\n",
    "        #accuracies[estimator] = []\n",
    "\n",
    "        for params_combo in grid:\n",
    "\n",
    "            estimator_iter = estimators[estimator]\n",
    "            estimator_iter = estimator_iter(**params_combo)\n",
    "\n",
    "            #estimator_iter.fit(Xtrain, ytrain)\n",
    "            scores = cross_val_score(estimator_iter, Xtrain, ytrain, cv = 2, scoring='accuracy') # smallest class has 2 members\n",
    "\n",
    "            if (scores.mean() > best_model[estimator][0]):\n",
    "                best_model[estimator] = [scores.mean(), estimator_iter.get_params]\n",
    "\n",
    "        accuracies[estimator].append(best_model[estimator][0])"
   ]
  },
  {
   "cell_type": "code",
   "execution_count": 20,
   "metadata": {},
   "outputs": [
    {
     "data": {
      "image/png": "[encoded data removed]",
      "text/plain": [
       "<Figure size 432x288 with 1 Axes>"
      ]
     },
     "metadata": {},
     "output_type": "display_data"
    }
   ],
   "source": [
    "plt.figure()\n",
    "plt.xlabel(\"Number of clusters\")\n",
    "plt.ylabel(\"Mean cross validation score\")\n",
    "plt.title(\"Accuracy for different number of location clusters\")\n",
    "plt.plot(range(2, len(accuracies['knn']) + 2),accuracies['knn'], c = 'r')\n",
    "plt.plot(range(2, len(accuracies['svc']) + 2),accuracies['svc'], c = 'b')\n",
    "plt.plot(range(2, len(accuracies['rfc']) + 2),accuracies['rfc'], c = 'g')\n",
    "plt.show()"
   ]
  },
  {
   "cell_type": "markdown",
   "metadata": {},
   "source": [
    "The plot shows that the accuracy decreases exponentially as the number of coordinate clusters increase. This is understandable, because it is more likely of randomly predicting the correct cluster if there are only a few clusters to choose from. The elbow of the curves above is around 7 clusters. No penalty score has been added, which makes it understandable that the slopes continues to decrease after this.\n",
    "\n",
    "Given the above plot, it would be a good idea to visualise the above three models at 5 neighbours on a coordinate scatterplot.\n",
    "\n",
    "We can view the coordinates for 5 clusters to see if it makes sense."
   ]
  },
  {
   "cell_type": "code",
   "execution_count": 21,
   "metadata": {},
   "outputs": [
    {
     "data": {
      "text/plain": [
       "<Figure size 432x288 with 0 Axes>"
      ]
     },
     "execution_count": 21,
     "metadata": {},
     "output_type": "execute_result"
    },
    {
     "data": {
      "image/png": "[encoded data removed]",
      "text/plain": [
       "<Figure size 432x288 with 1 Axes>"
      ]
     },
     "metadata": {},
     "output_type": "display_data"
    },
    {
     "data": {
      "text/plain": [
       "<Figure size 432x288 with 0 Axes>"
      ]
     },
     "metadata": {},
     "output_type": "display_data"
    }
   ],
   "source": [
    "data = pd.read_csv('default_features_1059_tracks.txt',header=None)\n",
    "    \n",
    "data = np.asarray(data)\n",
    "data.shape\n",
    "\n",
    "y_coords = data[:, 68:70]\n",
    "y_coords = y_coords.astype(dtype = np.float)\n",
    "\n",
    "n_clusters = 7\n",
    "kmeans = KMeans(n_clusters=n_clusters, max_iter = 500, algorithm='full')\n",
    "kmeans = kmeans.fit(y_coords)\n",
    "labels = kmeans.predict(y_coords)\n",
    "\n",
    "\n",
    "centroids = kmeans.cluster_centers_\n",
    "\n",
    "\n",
    "plt.style.use('ggplot')\n",
    "label_color = [plt.cm.nipy_spectral(float(l) /n_clusters) for l in labels]\n",
    "plt.scatter(y_coords[:, 1], y_coords[:, 0], c = label_color, s=25)\n",
    "plt.title(\"Clustered regions by coordinates\")\n",
    "plt.xlabel(\"Longitude\")\n",
    "plt.ylabel(\"Latitude\")\n",
    "\n",
    "plt.figure()"
   ]
  },
  {
   "cell_type": "code",
   "execution_count": 22,
   "metadata": {},
   "outputs": [
    {
     "data": {
      "text/plain": [
       "{'knn': [0.2575963103635377,\n",
       "  <bound method BaseEstimator.get_params of KNeighborsClassifier(algorithm='auto', leaf_size=30, metric='minkowski',\n",
       "             metric_params=None, n_jobs=1, n_neighbors=1, p=1,\n",
       "             weights='uniform')>],\n",
       " 'rfc': [0.25397901971423403,\n",
       "  <bound method BaseEstimator.get_params of RandomForestClassifier(bootstrap=True, class_weight=None, criterion='gini',\n",
       "              max_depth=None, max_features='auto', max_leaf_nodes=None,\n",
       "              min_impurity_decrease=0.0, min_impurity_split=None,\n",
       "              min_samples_leaf=1, min_samples_split=2,\n",
       "              min_weight_fraction_leaf=0.0, n_estimators=30, n_jobs=1,\n",
       "              oob_score=False, random_state=None, verbose=0,\n",
       "              warm_start=False)>],\n",
       " 'svc': [0.2663682401880991,\n",
       "  <bound method BaseEstimator.get_params of SVC(C=0.1, cache_size=200, class_weight=None, coef0=0.0,\n",
       "    decision_function_shape='ovr', degree=3, gamma=0.01, kernel='linear',\n",
       "    max_iter=-1, probability=False, random_state=1234, shrinking=True,\n",
       "    tol=0.001, verbose=False)>]}"
      ]
     },
     "execution_count": 22,
     "metadata": {},
     "output_type": "execute_result"
    }
   ],
   "source": [
    "best_model"
   ]
  },
  {
   "cell_type": "code",
   "execution_count": 23,
   "metadata": {},
   "outputs": [],
   "source": [
    "n_clusters = 7\n",
    "\n",
    "accuracies = {'svc':[], 'rfc':[], 'knn':[]}\n",
    "\n",
    "kmeans = KMeans(n_clusters=n_clusters, max_iter = 300, algorithm='full')\n",
    "kmeans = kmeans.fit(y_coords)\n",
    "labels = kmeans.predict(y_coords)\n",
    "\n",
    "Xtrain, Xtest, ytrain, ytest = train_test_split(X_reduced, labels, test_size=0.8, random_state=1234)\n",
    "\n",
    "best_model = {}\n",
    "\n",
    "for i, estimator in enumerate(estimators):\n",
    "    model_params = ParameterGrid(params[estimator])\n",
    "    grid = model_params\n",
    "\n",
    "    best_model[estimator] = [0]\n",
    "    \n",
    "    for params_combo in grid:\n",
    "\n",
    "        estimator_iter = estimators[estimator]\n",
    "        estimator_iter = estimator_iter(**params_combo)\n",
    "        estimator_iter.fit(Xtrain, ytrain)\n",
    "        #estimator_iter.fit(Xtrain, ytrain)\n",
    "        scores = cross_val_score(estimator_iter, Xtest, ytest, cv = 2, scoring='accuracy') # smallest class has 2 members\n",
    "\n",
    "        if (scores.mean() > best_model[estimator][0]):\n",
    "            best_model[estimator] = [scores.mean(), estimator_iter.get_params, estimator_iter.predict(Xtest)]\n",
    "            best_model[estimator].append(params_combo)\n",
    "\n",
    "    accuracies[estimator].append(best_model[estimator][0])"
   ]
  },
  {
   "cell_type": "code",
   "execution_count": 24,
   "metadata": {},
   "outputs": [],
   "source": [
    "acc_index = ['Accuracy Score', 'parameters', 'parameter values'] \n",
    "acc_columns = ['SVC', 'Random Forest', 'KNN']\n",
    "\n",
    "# display format as scientific \n",
    "pd.options.display.float_format = '{:,.4g}'.format\n",
    "acc_df = pd.DataFrame(index=acc_index, columns=acc_columns)\n",
    "\n",
    "\n",
    "acc_df.iloc[0, 0] = best_model['svc'][0]\n",
    "acc_df.iloc[0, 1] = best_model['rfc'][0]\n",
    "acc_df.iloc[0, 2] = best_model['knn'][0]\n",
    "acc_df.iloc[1, 0] = list(best_model['svc'][3])\n",
    "acc_df.iloc[1, 1] = list(best_model['rfc'][3])\n",
    "acc_df.iloc[1, 2] = list(best_model['knn'][3])\n",
    "acc_df.iloc[2, 0] = list(best_model['svc'][3].values())\n",
    "acc_df.iloc[2, 1] = list(best_model['rfc'][3].values())\n",
    "acc_df.iloc[2, 2] = list(best_model['knn'][3].values())"
   ]
  },
  {
   "cell_type": "code",
   "execution_count": 25,
   "metadata": {},
   "outputs": [
    {
     "data": {
      "text/html": [
       "<div>\n",
       "<style scoped>\n",
       "    .dataframe tbody tr th:only-of-type {\n",
       "        vertical-align: middle;\n",
       "    }\n",
       "\n",
       "    .dataframe tbody tr th {\n",
       "        vertical-align: top;\n",
       "    }\n",
       "\n",
       "    .dataframe thead th {\n",
       "        text-align: right;\n",
       "    }\n",
       "</style>\n",
       "<table border=\"1\" class=\"dataframe\">\n",
       "  <thead>\n",
       "    <tr style=\"text-align: right;\">\n",
       "      <th></th>\n",
       "      <th>SVC</th>\n",
       "      <th>Random Forest</th>\n",
       "      <th>KNN</th>\n",
       "    </tr>\n",
       "  </thead>\n",
       "  <tbody>\n",
       "    <tr>\n",
       "      <th>Accuracy Score</th>\n",
       "      <td>0.4446</td>\n",
       "      <td>0.4634</td>\n",
       "      <td>0.4611</td>\n",
       "    </tr>\n",
       "    <tr>\n",
       "      <th>parameters</th>\n",
       "      <td>[random_state, kernel, gamma, C]</td>\n",
       "      <td>[n_estimators]</td>\n",
       "      <td>[n_neighbors, p]</td>\n",
       "    </tr>\n",
       "    <tr>\n",
       "      <th>parameter values</th>\n",
       "      <td>[1234, linear, 0.01, 100]</td>\n",
       "      <td>[25]</td>\n",
       "      <td>[4, 1]</td>\n",
       "    </tr>\n",
       "  </tbody>\n",
       "</table>\n",
       "</div>"
      ],
      "text/plain": [
       "                                               SVC   Random Forest  \\\n",
       "Accuracy Score                              0.4446          0.4634   \n",
       "parameters        [random_state, kernel, gamma, C]  [n_estimators]   \n",
       "parameter values         [1234, linear, 0.01, 100]            [25]   \n",
       "\n",
       "                               KNN  \n",
       "Accuracy Score              0.4611  \n",
       "parameters        [n_neighbors, p]  \n",
       "parameter values            [4, 1]  "
      ]
     },
     "execution_count": 25,
     "metadata": {},
     "output_type": "execute_result"
    }
   ],
   "source": [
    "acc_df"
   ]
  },
  {
   "cell_type": "code",
   "execution_count": 26,
   "metadata": {},
   "outputs": [
    {
     "data": {
      "text/plain": [
       "<Figure size 432x288 with 0 Axes>"
      ]
     },
     "execution_count": 26,
     "metadata": {},
     "output_type": "execute_result"
    },
    {
     "data": {
      "image/png": "[encoded data removed]",
      "text/plain": [
       "<Figure size 432x288 with 1 Axes>"
      ]
     },
     "metadata": {},
     "output_type": "display_data"
    },
    {
     "data": {
      "text/plain": [
       "<Figure size 432x288 with 0 Axes>"
      ]
     },
     "metadata": {},
     "output_type": "display_data"
    }
   ],
   "source": [
    "plt.style.use('ggplot')\n",
    "label_color = [plt.cm.nipy_spectral(float(l) /n_clusters) for l in best_model['svc'][2]]\n",
    "plt.scatter(y_coords[:, 1], y_coords[:, 0], c = label_color, s=25)\n",
    "plt.title(\"Clustered regions by SVC classification (Accuracy score: %s)\" % best_model['svc'][0])\n",
    "plt.xlabel(\"Longitude\")\n",
    "plt.ylabel(\"Latitude\")\n",
    "\n",
    "plt.figure()"
   ]
  },
  {
   "cell_type": "code",
   "execution_count": 27,
   "metadata": {},
   "outputs": [
    {
     "data": {
      "text/plain": [
       "<Figure size 432x288 with 0 Axes>"
      ]
     },
     "execution_count": 27,
     "metadata": {},
     "output_type": "execute_result"
    },
    {
     "data": {
      "image/png": "[encoded data removed]",
      "text/plain": [
       "<Figure size 432x288 with 1 Axes>"
      ]
     },
     "metadata": {},
     "output_type": "display_data"
    },
    {
     "data": {
      "text/plain": [
       "<Figure size 432x288 with 0 Axes>"
      ]
     },
     "metadata": {},
     "output_type": "display_data"
    }
   ],
   "source": [
    "\n",
    "plt.style.use('ggplot')\n",
    "label_colorlabel_col  = [plt.cm.nipy_spectral(float(l) /n_clusters) for l in best_model['knn'][2]]\n",
    "plt.scatter(y_coords[:, 1], y_coords[:, 0], c = label_color, s=25)\n",
    "plt.title(\"Clustered regions by KNN classification (Accuracy score: %s)\" % best_model['knn'][0])\n",
    "plt.xlabel(\"Longitude\")\n",
    "plt.ylabel(\"Latitude\")\n",
    "\n",
    "plt.figure()"
   ]
  },
  {
   "cell_type": "code",
   "execution_count": 28,
   "metadata": {},
   "outputs": [
    {
     "data": {
      "text/plain": [
       "<Figure size 432x288 with 0 Axes>"
      ]
     },
     "execution_count": 28,
     "metadata": {},
     "output_type": "execute_result"
    },
    {
     "data": {
      "image/png": "[encoded data removed]",
      "text/plain": [
       "<Figure size 432x288 with 1 Axes>"
      ]
     },
     "metadata": {},
     "output_type": "display_data"
    },
    {
     "data": {
      "text/plain": [
       "<Figure size 432x288 with 0 Axes>"
      ]
     },
     "metadata": {},
     "output_type": "display_data"
    }
   ],
   "source": [
    "plt.style.use('ggplot')\n",
    "label_color = [plt.cm.nipy_spectral(float(l) /n_clusters) for l in best_model['rfc'][2]]\n",
    "plt.scatter(y_coords[:, 1], y_coords[:, 0], c = label_color, s=25)\n",
    "plt.title(\"Clustered regions by Random Forest classification (Accuracy score: %s)\" % best_model['rfc'][0])\n",
    "plt.xlabel(\"Longitude\")\n",
    "plt.ylabel(\"Latitude\")\n",
    "\n",
    "plt.figure()"
   ]
  },
  {
   "cell_type": "markdown",
   "metadata": {},
   "source": [
    "\n",
    "After applying our the best hyperparameters to each of the three models, we were still not could still not reach 50% accuracy for classifying music by geographic location, even after we reduced the number of cluster to 7.\n",
    "\n",
    "Random Forest Classification did marginally better than the other two models with an accuracy score of 46.3% when considering 7 geographical clusters.\n",
    "\n",
    "Geographically the coordinate plot above makes more or less sense. Kmeans have roughly clustered different continents together. There are a few points that might not be in the correct geographic cluster, but it makes sense to cluster as above.\n",
    "\n",
    "The second plot shows clustering according to music features. Even though the colours do not seem to be matching the cluster colours on the on the coordinate clustering plot, it would appear as if the second plot is somewhat clustered by geographic location. However, it is difficult to measure this accuracy by only looking at the plot."
   ]
  },
  {
   "cell_type": "code",
   "execution_count": 29,
   "metadata": {},
   "outputs": [
    {
     "data": {
      "text/html": [
       "<div>\n",
       "<style scoped>\n",
       "    .dataframe tbody tr th:only-of-type {\n",
       "        vertical-align: middle;\n",
       "    }\n",
       "\n",
       "    .dataframe tbody tr th {\n",
       "        vertical-align: top;\n",
       "    }\n",
       "\n",
       "    .dataframe thead th {\n",
       "        text-align: right;\n",
       "    }\n",
       "</style>\n",
       "<table border=\"1\" class=\"dataframe\">\n",
       "  <thead>\n",
       "    <tr style=\"text-align: right;\">\n",
       "      <th></th>\n",
       "      <th>SVC</th>\n",
       "      <th>RFC</th>\n",
       "      <th>KNN</th>\n",
       "    </tr>\n",
       "  </thead>\n",
       "  <tbody>\n",
       "    <tr>\n",
       "      <th>Correct</th>\n",
       "      <td>309</td>\n",
       "      <td>369</td>\n",
       "      <td>362</td>\n",
       "    </tr>\n",
       "    <tr>\n",
       "      <th>Incorrect</th>\n",
       "      <td>539</td>\n",
       "      <td>479</td>\n",
       "      <td>486</td>\n",
       "    </tr>\n",
       "  </tbody>\n",
       "</table>\n",
       "</div>"
      ],
      "text/plain": [
       "           SVC  RFC  KNN\n",
       "Correct    309  369  362\n",
       "Incorrect  539  479  486"
      ]
     },
     "execution_count": 29,
     "metadata": {},
     "output_type": "execute_result"
    }
   ],
   "source": [
    "results_columns = ['Geo', 'SVC','RFC','KNN'] \n",
    "results_index = ['obs_%d'%i for i in range(0,len(best_model['svc'][2]))]\n",
    "\n",
    "# display format as scientific \n",
    "pd.options.display.float_format = '{:,.4g}'.format\n",
    "results_df = pd.DataFrame(index=results_index, columns=results_columns)\n",
    "\n",
    "\n",
    "for i in range(0, len(best_model['svc'][2])):\n",
    "    results_df.iloc[i, 0] = ytest[i]\n",
    "    results_df.iloc[i, 1] = best_model['svc'][2][i]\n",
    "    results_df.iloc[i, 2] = best_model['rfc'][2][i]\n",
    "    results_df.iloc[i, 3] = best_model['knn'][2][i]\n",
    "    \n",
    "correct_columns = ['SVC', 'RFC', 'KNN']\n",
    "correct_index = ['Correct', 'Incorrect']\n",
    "\n",
    "pd.options.display.float_format = '{:,.4g}'.format\n",
    "correct_df = pd.DataFrame(index=correct_index, columns=correct_columns)\n",
    "correct_df\n",
    "\n",
    "for i in range(0, 3, 1):\n",
    "    correct_df.iloc[0, i] = len(results_df[results_df['Geo'] == results_df.iloc[:, i+1]])\n",
    "    correct_df.iloc[1, i] = len(results_df[results_df['Geo'] != results_df.iloc[:, i+1]])\n",
    "    \n",
    "correct_df\n"
   ]
  },
  {
   "cell_type": "code",
   "execution_count": null,
   "metadata": {},
   "outputs": [],
   "source": []
  }
 ],
 "metadata": {
  "kernelspec": {
   "display_name": "Python 3",
   "language": "python",
   "name": "python3"
  },
  "language_info": {
   "codemirror_mode": {
    "name": "ipython",
    "version": 3
   },
   "file_extension": ".py",
   "mimetype": "text/x-python",
   "name": "python",
   "nbconvert_exporter": "python",
   "pygments_lexer": "ipython3",
   "version": "3.5.5"
  },
  "latex_envs": {
   "LaTeX_envs_menu_present": true,
   "autoclose": true,
   "autocomplete": true,
   "bibliofile": "biblio.bib",
   "cite_by": "apalike",
   "current_citInitial": 1,
   "eqLabelWithNumbers": true,
   "eqNumInitial": 1,
   "hotkeys": {
    "equation": "Ctrl-E",
    "itemize": "Ctrl-I"
   },
   "labels_anchors": false,
   "latex_user_defs": false,
   "report_style_numbering": false,
   "user_envs_cfg": false
  }
 },
 "nbformat": 4,
 "nbformat_minor": 2
}
