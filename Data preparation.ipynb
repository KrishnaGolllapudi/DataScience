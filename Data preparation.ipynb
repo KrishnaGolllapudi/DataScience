{
 "cells": [
  {
   "cell_type": "code",
   "execution_count": 1,
   "metadata": {},
   "outputs": [],
   "source": [
    "import numpy as np\n",
    "import csv,json\n",
    "import pandas as pd"
   ]
  },
  {
   "cell_type": "code",
   "execution_count": 2,
   "metadata": {},
   "outputs": [],
   "source": [
    "## Preparing DJIA data\n",
    "# Reading DJIA index prices csv file\n",
    "\n",
    "with open('djia.csv', 'r') as csvfile:\n",
    "    spamreader = csv.reader(csvfile, delimiter=',')\n",
    "    # Converting the csv file reader to a lists \n",
    "    data_list = list(spamreader)     \n"
   ]
  },
  {
   "cell_type": "code",
   "execution_count": 3,
   "metadata": {},
   "outputs": [
    {
     "data": {
      "text/plain": [
       "array([['2008-08-18', '11659.650391', '11690.429688', ...,\n",
       "        '11479.389648', '11479.389648', '156290000'],\n",
       "       ['2008-08-19', '11478.089844', '11478.169922', ...,\n",
       "        '11348.549805', '11348.549805', '171580000'],\n",
       "       ['2008-08-20', '11345.940430', '11454.150391', ...,\n",
       "        '11417.429688', '11417.429688', '144880000'],\n",
       "       ...,\n",
       "       ['2018-08-13', '25327.189453', '25381.390625', ...,\n",
       "        '25187.699219', '25187.699219', '219990000'],\n",
       "       ['2018-08-14', '25215.689453', '25339.509766', ...,\n",
       "        '25299.919922', '25299.919922', '219210000'],\n",
       "       ['2018-08-15', '25235.369141', '25235.369141', ...,\n",
       "        '25162.410156', '25162.410156', '295810000']], dtype='<U12')"
      ]
     },
     "execution_count": 3,
     "metadata": {},
     "output_type": "execute_result"
    }
   ],
   "source": [
    "# Separating header from the data\n",
    "header = data_list[0] \n",
    "data_list = data_list[1:] \n",
    "\n",
    "data_list=np.asarray(data_list)\n",
    "data_list\n"
   ]
  },
  {
   "cell_type": "code",
   "execution_count": 4,
   "metadata": {},
   "outputs": [
    {
     "data": {
      "text/plain": [
       "array([['2008-08-18', '11479.389648', '156290000'],\n",
       "       ['2008-08-19', '11348.549805', '171580000'],\n",
       "       ['2008-08-20', '11417.429688', '144880000'],\n",
       "       ...,\n",
       "       ['2018-08-13', '25187.699219', '219990000'],\n",
       "       ['2018-08-14', '25299.919922', '219210000'],\n",
       "       ['2018-08-15', '25162.410156', '295810000']], dtype='<U12')"
      ]
     },
     "execution_count": 4,
     "metadata": {},
     "output_type": "execute_result"
    }
   ],
   "source": [
    "# Selecting date and close value for each day\n",
    "selected_data = data_list[:, [0, 5, 6]]\n",
    "selected_data"
   ]
  },
  {
   "cell_type": "code",
   "execution_count": 5,
   "metadata": {},
   "outputs": [
    {
     "data": {
      "text/html": [
       "<div>\n",
       "<style scoped>\n",
       "    .dataframe tbody tr th:only-of-type {\n",
       "        vertical-align: middle;\n",
       "    }\n",
       "\n",
       "    .dataframe tbody tr th {\n",
       "        vertical-align: top;\n",
       "    }\n",
       "\n",
       "    .dataframe thead th {\n",
       "        text-align: right;\n",
       "    }\n",
       "</style>\n",
       "<table border=\"1\" class=\"dataframe\">\n",
       "  <thead>\n",
       "    <tr style=\"text-align: right;\">\n",
       "      <th></th>\n",
       "      <th>close</th>\n",
       "      <th>adj close</th>\n",
       "    </tr>\n",
       "  </thead>\n",
       "  <tbody>\n",
       "    <tr>\n",
       "      <th>2008-08-18</th>\n",
       "      <td>11479.389648</td>\n",
       "      <td>156290000.0</td>\n",
       "    </tr>\n",
       "    <tr>\n",
       "      <th>2008-08-19</th>\n",
       "      <td>11348.549805</td>\n",
       "      <td>171580000.0</td>\n",
       "    </tr>\n",
       "    <tr>\n",
       "      <th>2008-08-20</th>\n",
       "      <td>11417.429688</td>\n",
       "      <td>144880000.0</td>\n",
       "    </tr>\n",
       "    <tr>\n",
       "      <th>2008-08-21</th>\n",
       "      <td>11430.209961</td>\n",
       "      <td>130020000.0</td>\n",
       "    </tr>\n",
       "    <tr>\n",
       "      <th>2008-08-22</th>\n",
       "      <td>11628.059570</td>\n",
       "      <td>138790000.0</td>\n",
       "    </tr>\n",
       "  </tbody>\n",
       "</table>\n",
       "</div>"
      ],
      "text/plain": [
       "                   close    adj close\n",
       "2008-08-18  11479.389648  156290000.0\n",
       "2008-08-19  11348.549805  171580000.0\n",
       "2008-08-20  11417.429688  144880000.0\n",
       "2008-08-21  11430.209961  130020000.0\n",
       "2008-08-22  11628.059570  138790000.0"
      ]
     },
     "execution_count": 5,
     "metadata": {},
     "output_type": "execute_result"
    }
   ],
   "source": [
    "df = pd.DataFrame(data=selected_data[0:,1:],\n",
    "             index=selected_data[0:,0],\n",
    "                                columns=['close', 'adj close'],\n",
    "                                        dtype='float64')\n",
    "df.head()"
   ]
  },
  {
   "cell_type": "code",
   "execution_count": 6,
   "metadata": {},
   "outputs": [],
   "source": [
    "# df1 = df\n",
    "# idx = pd.date_range('08-20-2008', '08-15-2018')\n",
    "# df1.index = pd.DatetimeIndex(df1.index)\n",
    "# df1 = df1.reindex(idx, fill_value=np.NaN)\n",
    "# # df1.count() # gives 2518 count\n",
    "# interpolated_df = df1.interpolate()\n",
    "# interpolated_df.count() # gives 3651 count\n",
    "\n",
    "# # Removing extra date rows added in data for calculating interpolation\n",
    "# interpolated_df = interpolated_df[3:]\n"
   ]
  },
  {
   "cell_type": "markdown",
   "metadata": {},
   "source": [
    "***Preparing NYTimes Data***"
   ]
  },
  {
   "cell_type": "code",
   "execution_count": 7,
   "metadata": {},
   "outputs": [],
   "source": [
    "date_format = [\"%Y-%m-%dT%H:%M:%SZ\", \"%Y-%m-%dT%H:%M:%S+%f\"]"
   ]
  },
  {
   "cell_type": "code",
   "execution_count": 8,
   "metadata": {},
   "outputs": [],
   "source": [
    "def try_parsing_date(text):\n",
    "    for fmt in date_format:\n",
    "        try:\n",
    "            return datetime.strptime(text, fmt).strftime('%Y-%m-%d')\n",
    "        except ValueError:\n",
    "            pass\n",
    "    raise ValueError('no valid date format found')"
   ]
  },
  {
   "cell_type": "code",
   "execution_count": 9,
   "metadata": {},
   "outputs": [],
   "source": [
    "years = [2018, 2017, 2016, 2015, 2014, 2013, 2012, 2011, 2010, 2009, 2008, 2007]\n",
    "months = [1, 2, 3, 4, 5, 6, 7, 8, 9, 10, 11, 12]"
   ]
  },
  {
   "cell_type": "code",
   "execution_count": 10,
   "metadata": {},
   "outputs": [],
   "source": [
    "dict_keys = ['pub_date', 'headline']"
   ]
  },
  {
   "cell_type": "code",
   "execution_count": 11,
   "metadata": {},
   "outputs": [],
   "source": [
    "articles_dict = dict.fromkeys(dict_keys)"
   ]
  },
  {
   "cell_type": "code",
   "execution_count": 12,
   "metadata": {},
   "outputs": [],
   "source": [
    "# Filtering list for type_of_material\n",
    "type_of_material_list = ['blog', 'brief', 'news', 'editorial', 'op-ed', 'list','analysis']\n",
    "\n",
    "# Filtering list for section_name\n",
    "section_name_list = ['business', 'national', 'world', 'u.s.' , 'politics', 'opinion', 'tech', 'science',  'health']\n",
    "news_desk_list = ['business', 'national', 'world', 'u.s.' , 'politics', 'opinion', 'tech', 'science',  'health', 'foreign']"
   ]
  },
  {
   "cell_type": "code",
   "execution_count": 14,
   "metadata": {},
   "outputs": [],
   "source": [
    "current_date = '2018-08-08'\n",
    "from datetime import datetime\n",
    "\n",
    "current_article_str = ''   \n",
    "## Adding article column to dataframe\n",
    "\n",
    "df[\"articles\"] = ''\n",
    "count_articles_filtered = 0\n",
    "count_total_articles = 0\n",
    "count_main_not_exist = 0               \n",
    "count_unicode_error = 0     \n",
    "count_attribute_error = 0   "
   ]
  },
  {
   "cell_type": "code",
   "execution_count": null,
   "metadata": {},
   "outputs": [],
   "source": [
    "for year in years:\n",
    "    for month in months:\n",
    "        file_str = '' + str(year) + '-' + '{:02}'.format(month) + '.json'"
   ]
  }
 ],
 "metadata": {
  "kernelspec": {
   "display_name": "Python 3",
   "language": "python",
   "name": "python3"
  },
  "language_info": {
   "codemirror_mode": {
    "name": "ipython",
    "version": 3
   },
   "file_extension": ".py",
   "mimetype": "text/x-python",
   "name": "python",
   "nbconvert_exporter": "python",
   "pygments_lexer": "ipython3",
   "version": "3.5.5"
  },
  "latex_envs": {
   "LaTeX_envs_menu_present": true,
   "autoclose": true,
   "autocomplete": true,
   "bibliofile": "biblio.bib",
   "cite_by": "apalike",
   "current_citInitial": 1,
   "eqLabelWithNumbers": true,
   "eqNumInitial": 1,
   "hotkeys": {
    "equation": "Ctrl-E",
    "itemize": "Ctrl-I"
   },
   "labels_anchors": false,
   "latex_user_defs": false,
   "report_style_numbering": false,
   "user_envs_cfg": false
  }
 },
 "nbformat": 4,
 "nbformat_minor": 2
}
